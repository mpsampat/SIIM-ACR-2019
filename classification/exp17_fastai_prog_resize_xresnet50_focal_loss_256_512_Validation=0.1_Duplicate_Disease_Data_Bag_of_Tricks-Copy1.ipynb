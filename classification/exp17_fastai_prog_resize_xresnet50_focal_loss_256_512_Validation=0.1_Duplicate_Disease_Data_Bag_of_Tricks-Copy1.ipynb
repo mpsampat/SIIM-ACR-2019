{
 "cells": [
  {
   "cell_type": "code",
   "execution_count": 1,
   "metadata": {},
   "outputs": [],
   "source": [
    "%reload_ext autoreload\n",
    "%autoreload 2\n",
    "%matplotlib inline"
   ]
  },
  {
   "cell_type": "code",
   "execution_count": 2,
   "metadata": {},
   "outputs": [],
   "source": [
    "import numpy as np\n",
    "import fastai\n",
    "from fastai.vision import *\n",
    "import pandas as pd\n",
    "import os\n",
    "from shutil import copyfile\n"
   ]
  },
  {
   "cell_type": "code",
   "execution_count": 3,
   "metadata": {},
   "outputs": [
    {
     "name": "stdout",
     "output_type": "stream",
     "text": [
      "classifier_data_512/\n"
     ]
    }
   ],
   "source": [
    "torch.cuda.set_device(1)\n",
    "df_train = pd.read_csv('../train-rle.csv')\n",
    "exp_label = 'exp17'\n",
    "model_name = 'resnet18'\n",
    "full_resolution = 512\n",
    "half_resolution = 256\n",
    "\n",
    "stats_512 = ([0.529,0.529,0.529],[0.259,0.259,0.259])\n",
    "print(f\"classifier_data_{full_resolution}/\")"
   ]
  },
  {
   "cell_type": "code",
   "execution_count": 4,
   "metadata": {},
   "outputs": [],
   "source": [
    "np.random.seed(42)\n",
    "src = (ImageList.from_folder(f\"classifier_data_{full_resolution}/\")\n",
    "                .split_by_rand_pct(0.1)\n",
    "                .label_from_folder())\n",
    "# Starting with image size 256\n",
    "tfms = get_transforms(do_flip=True, max_rotate=15, flip_vert=False, max_lighting=0.1,\n",
    "                      max_warp=0.,\n",
    "                      xtra_tfms=[rand_crop(), rand_zoom(0.75, 1.25),\n",
    "                                 symmetric_warp(magnitude=(-0.2, 0.2))])\n",
    "data = (src.transform(tfms, size=half_resolution)\n",
    "           .databunch(bs=64, path='.').normalize(imagenet_stats))\n",
    " \n"
   ]
  },
  {
   "cell_type": "code",
   "execution_count": 5,
   "metadata": {},
   "outputs": [],
   "source": [
    "from torch import nn\n",
    "import torch.nn.functional as F\n",
    "\n",
    "class FocalLoss(nn.Module):\n",
    "    def __init__(self, alpha=1., gamma=2.):\n",
    "        super().__init__()\n",
    "        self.alpha = alpha\n",
    "        self.gamma = gamma\n",
    "\n",
    "    def forward(self, inputs, targets, **kwargs):\n",
    "        CE_loss = nn.CrossEntropyLoss(reduction='none')(inputs, targets)\n",
    "        pt = torch.exp(-CE_loss)\n",
    "        F_loss = self.alpha * ((1-pt)**self.gamma) * CE_loss\n",
    "        return F_loss.mean()"
   ]
  },
  {
   "cell_type": "code",
   "execution_count": 6,
   "metadata": {},
   "outputs": [],
   "source": [
    "precision = Precision()\n",
    "recall    = Recall()\n",
    "auroc     = AUROC()\n",
    "f1_score  = FBeta(beta=1)\n",
    "f2_score  = FBeta(beta=2)\n",
    "learn = cnn_learner(data, models.resnet18, metrics=[accuracy,precision,recall,auroc,f1_score,f2_score], model_dir=\".\", \n",
    "                    callback_fns=ShowGraph)\n",
    "learn.loss_fn = LabelSmoothingCrossEntropy"
   ]
  },
  {
   "cell_type": "code",
   "execution_count": 7,
   "metadata": {
    "scrolled": true
   },
   "outputs": [
    {
     "data": {
      "text/html": [],
      "text/plain": [
       "<IPython.core.display.HTML object>"
      ]
     },
     "metadata": {},
     "output_type": "display_data"
    },
    {
     "name": "stdout",
     "output_type": "stream",
     "text": [
      "LR Finder is complete, type {learner_name}.recorder.plot() to see the graph.\n",
      "Min numerical gradient: 8.32E-04\n",
      "Min loss divided by 10: 6.92E-03\n"
     ]
    },
    {
     "data": {
      "image/png": "[encoded data removed]",
      "text/plain": [
       "<Figure size 432x288 with 1 Axes>"
      ]
     },
     "metadata": {
      "needs_background": "light"
     },
     "output_type": "display_data"
    }
   ],
   "source": [
    "learn.lr_find()\n",
    "learn.recorder.plot(suggestion=True)"
   ]
  },
  {
   "cell_type": "code",
   "execution_count": 8,
   "metadata": {},
   "outputs": [
    {
     "data": {
      "text/html": [
       "<table border=\"1\" class=\"dataframe\">\n",
       "  <thead>\n",
       "    <tr style=\"text-align: left;\">\n",
       "      <th>epoch</th>\n",
       "      <th>train_loss</th>\n",
       "      <th>valid_loss</th>\n",
       "      <th>accuracy</th>\n",
       "      <th>precision</th>\n",
       "      <th>recall</th>\n",
       "      <th>auroc</th>\n",
       "      <th>f_beta</th>\n",
       "      <th>f_beta</th>\n",
       "      <th>time</th>\n",
       "    </tr>\n",
       "  </thead>\n",
       "  <tbody>\n",
       "    <tr>\n",
       "      <td>0</td>\n",
       "      <td>0.733862</td>\n",
       "      <td>0.623703</td>\n",
       "      <td>0.674012</td>\n",
       "      <td>0.666004</td>\n",
       "      <td>0.800478</td>\n",
       "      <td>0.743425</td>\n",
       "      <td>0.727075</td>\n",
       "      <td>0.769407</td>\n",
       "      <td>00:31</td>\n",
       "    </tr>\n",
       "    <tr>\n",
       "      <td>1</td>\n",
       "      <td>0.613366</td>\n",
       "      <td>0.562077</td>\n",
       "      <td>0.719378</td>\n",
       "      <td>0.742788</td>\n",
       "      <td>0.738351</td>\n",
       "      <td>0.781057</td>\n",
       "      <td>0.740563</td>\n",
       "      <td>0.739234</td>\n",
       "      <td>00:31</td>\n",
       "    </tr>\n",
       "    <tr>\n",
       "      <td>2</td>\n",
       "      <td>0.566686</td>\n",
       "      <td>0.542291</td>\n",
       "      <td>0.724563</td>\n",
       "      <td>0.727876</td>\n",
       "      <td>0.786141</td>\n",
       "      <td>0.798459</td>\n",
       "      <td>0.755887</td>\n",
       "      <td>0.773754</td>\n",
       "      <td>00:30</td>\n",
       "    </tr>\n",
       "    <tr>\n",
       "      <td>3</td>\n",
       "      <td>0.538880</td>\n",
       "      <td>0.530742</td>\n",
       "      <td>0.732340</td>\n",
       "      <td>0.756659</td>\n",
       "      <td>0.746714</td>\n",
       "      <td>0.807773</td>\n",
       "      <td>0.751654</td>\n",
       "      <td>0.748682</td>\n",
       "      <td>00:30</td>\n",
       "    </tr>\n",
       "    <tr>\n",
       "      <td>4</td>\n",
       "      <td>0.528236</td>\n",
       "      <td>0.526505</td>\n",
       "      <td>0.729747</td>\n",
       "      <td>0.726782</td>\n",
       "      <td>0.804062</td>\n",
       "      <td>0.814913</td>\n",
       "      <td>0.763471</td>\n",
       "      <td>0.787319</td>\n",
       "      <td>00:31</td>\n",
       "    </tr>\n",
       "    <tr>\n",
       "      <td>5</td>\n",
       "      <td>0.519089</td>\n",
       "      <td>0.527071</td>\n",
       "      <td>0.734284</td>\n",
       "      <td>0.728832</td>\n",
       "      <td>0.812425</td>\n",
       "      <td>0.815541</td>\n",
       "      <td>0.768362</td>\n",
       "      <td>0.794207</td>\n",
       "      <td>00:31</td>\n",
       "    </tr>\n",
       "  </tbody>\n",
       "</table>"
      ],
      "text/plain": [
       "<IPython.core.display.HTML object>"
      ]
     },
     "metadata": {},
     "output_type": "display_data"
    },
    {
     "data": {
      "image/png": "[encoded data removed]",
      "text/plain": [
       "<Figure size 432x288 with 1 Axes>"
      ]
     },
     "metadata": {},
     "output_type": "display_data"
    }
   ],
   "source": [
    "lr = 1e-3\n",
    "learn.freeze()\n",
    "learn.fit_one_cycle(6,slice(lr))\n",
    "#learn.fit_one_cycle(1,1e-3)"
   ]
  },
  {
   "cell_type": "code",
   "execution_count": 9,
   "metadata": {},
   "outputs": [
    {
     "data": {
      "image/png": "[encoded data removed]",
      "text/plain": [
       "<Figure size 432x288 with 1 Axes>"
      ]
     },
     "metadata": {
      "needs_background": "light"
     },
     "output_type": "display_data"
    }
   ],
   "source": [
    "learn.save(f\"{exp_label}_pneumo_{half_resolution}_before_unfreeze\")\n",
    "interp = ClassificationInterpretation.from_learner(learn)\n",
    "interp.plot_confusion_matrix()"
   ]
  },
  {
   "cell_type": "code",
   "execution_count": 10,
   "metadata": {},
   "outputs": [],
   "source": [
    "learn.load(f\"{exp_label}_pneumo_{half_resolution}_before_unfreeze\");"
   ]
  },
  {
   "cell_type": "code",
   "execution_count": 11,
   "metadata": {},
   "outputs": [],
   "source": [
    "learn.unfreeze()"
   ]
  },
  {
   "cell_type": "code",
   "execution_count": 12,
   "metadata": {},
   "outputs": [
    {
     "data": {
      "text/html": [],
      "text/plain": [
       "<IPython.core.display.HTML object>"
      ]
     },
     "metadata": {},
     "output_type": "display_data"
    },
    {
     "name": "stdout",
     "output_type": "stream",
     "text": [
      "LR Finder is complete, type {learner_name}.recorder.plot() to see the graph.\n",
      "Min numerical gradient: 6.31E-07\n",
      "Min loss divided by 10: 7.59E-08\n"
     ]
    },
    {
     "data": {
      "image/png": "[encoded data removed]",
      "text/plain": [
       "<Figure size 432x288 with 1 Axes>"
      ]
     },
     "metadata": {
      "needs_background": "light"
     },
     "output_type": "display_data"
    }
   ],
   "source": [
    "learn.lr_find()\n",
    "learn.recorder.plot(suggestion=True)"
   ]
  },
  {
   "cell_type": "code",
   "execution_count": 13,
   "metadata": {},
   "outputs": [
    {
     "data": {
      "text/html": [
       "<table border=\"1\" class=\"dataframe\">\n",
       "  <thead>\n",
       "    <tr style=\"text-align: left;\">\n",
       "      <th>epoch</th>\n",
       "      <th>train_loss</th>\n",
       "      <th>valid_loss</th>\n",
       "      <th>accuracy</th>\n",
       "      <th>precision</th>\n",
       "      <th>recall</th>\n",
       "      <th>auroc</th>\n",
       "      <th>f_beta</th>\n",
       "      <th>f_beta</th>\n",
       "      <th>time</th>\n",
       "    </tr>\n",
       "  </thead>\n",
       "  <tbody>\n",
       "    <tr>\n",
       "      <td>0</td>\n",
       "      <td>0.516144</td>\n",
       "      <td>0.516634</td>\n",
       "      <td>0.744653</td>\n",
       "      <td>0.743674</td>\n",
       "      <td>0.807646</td>\n",
       "      <td>0.822019</td>\n",
       "      <td>0.774341</td>\n",
       "      <td>0.793986</td>\n",
       "      <td>00:31</td>\n",
       "    </tr>\n",
       "    <tr>\n",
       "      <td>1</td>\n",
       "      <td>0.502241</td>\n",
       "      <td>0.498046</td>\n",
       "      <td>0.755023</td>\n",
       "      <td>0.785803</td>\n",
       "      <td>0.753883</td>\n",
       "      <td>0.834618</td>\n",
       "      <td>0.769512</td>\n",
       "      <td>0.760058</td>\n",
       "      <td>00:32</td>\n",
       "    </tr>\n",
       "    <tr>\n",
       "      <td>2</td>\n",
       "      <td>0.467607</td>\n",
       "      <td>0.473754</td>\n",
       "      <td>0.773817</td>\n",
       "      <td>0.805000</td>\n",
       "      <td>0.769415</td>\n",
       "      <td>0.852253</td>\n",
       "      <td>0.786805</td>\n",
       "      <td>0.776278</td>\n",
       "      <td>00:32</td>\n",
       "    </tr>\n",
       "    <tr>\n",
       "      <td>3</td>\n",
       "      <td>0.465195</td>\n",
       "      <td>0.447927</td>\n",
       "      <td>0.788075</td>\n",
       "      <td>0.802133</td>\n",
       "      <td>0.808841</td>\n",
       "      <td>0.870570</td>\n",
       "      <td>0.805473</td>\n",
       "      <td>0.807490</td>\n",
       "      <td>00:32</td>\n",
       "    </tr>\n",
       "    <tr>\n",
       "      <td>4</td>\n",
       "      <td>0.418770</td>\n",
       "      <td>0.429985</td>\n",
       "      <td>0.802333</td>\n",
       "      <td>0.805747</td>\n",
       "      <td>0.837515</td>\n",
       "      <td>0.883025</td>\n",
       "      <td>0.821324</td>\n",
       "      <td>0.830963</td>\n",
       "      <td>00:31</td>\n",
       "    </tr>\n",
       "    <tr>\n",
       "      <td>5</td>\n",
       "      <td>0.401636</td>\n",
       "      <td>0.416176</td>\n",
       "      <td>0.796500</td>\n",
       "      <td>0.853857</td>\n",
       "      <td>0.753883</td>\n",
       "      <td>0.892005</td>\n",
       "      <td>0.800761</td>\n",
       "      <td>0.771960</td>\n",
       "      <td>00:32</td>\n",
       "    </tr>\n",
       "    <tr>\n",
       "      <td>6</td>\n",
       "      <td>0.388231</td>\n",
       "      <td>0.404360</td>\n",
       "      <td>0.808814</td>\n",
       "      <td>0.857520</td>\n",
       "      <td>0.776583</td>\n",
       "      <td>0.897053</td>\n",
       "      <td>0.815047</td>\n",
       "      <td>0.791525</td>\n",
       "      <td>00:34</td>\n",
       "    </tr>\n",
       "    <tr>\n",
       "      <td>7</td>\n",
       "      <td>0.372567</td>\n",
       "      <td>0.395254</td>\n",
       "      <td>0.817239</td>\n",
       "      <td>0.842170</td>\n",
       "      <td>0.816010</td>\n",
       "      <td>0.900831</td>\n",
       "      <td>0.828884</td>\n",
       "      <td>0.821111</td>\n",
       "      <td>00:55</td>\n",
       "    </tr>\n",
       "    <tr>\n",
       "      <td>8</td>\n",
       "      <td>0.358340</td>\n",
       "      <td>0.388726</td>\n",
       "      <td>0.814647</td>\n",
       "      <td>0.849176</td>\n",
       "      <td>0.800478</td>\n",
       "      <td>0.904186</td>\n",
       "      <td>0.824108</td>\n",
       "      <td>0.809766</td>\n",
       "      <td>00:50</td>\n",
       "    </tr>\n",
       "    <tr>\n",
       "      <td>9</td>\n",
       "      <td>0.366919</td>\n",
       "      <td>0.383458</td>\n",
       "      <td>0.817887</td>\n",
       "      <td>0.851010</td>\n",
       "      <td>0.805257</td>\n",
       "      <td>0.906719</td>\n",
       "      <td>0.827502</td>\n",
       "      <td>0.814010</td>\n",
       "      <td>00:52</td>\n",
       "    </tr>\n",
       "    <tr>\n",
       "      <td>10</td>\n",
       "      <td>0.342545</td>\n",
       "      <td>0.380192</td>\n",
       "      <td>0.819831</td>\n",
       "      <td>0.855146</td>\n",
       "      <td>0.804062</td>\n",
       "      <td>0.908218</td>\n",
       "      <td>0.828818</td>\n",
       "      <td>0.813785</td>\n",
       "      <td>00:52</td>\n",
       "    </tr>\n",
       "    <tr>\n",
       "      <td>11</td>\n",
       "      <td>0.331629</td>\n",
       "      <td>0.377300</td>\n",
       "      <td>0.825016</td>\n",
       "      <td>0.865806</td>\n",
       "      <td>0.801673</td>\n",
       "      <td>0.910073</td>\n",
       "      <td>0.832506</td>\n",
       "      <td>0.813728</td>\n",
       "      <td>00:56</td>\n",
       "    </tr>\n",
       "    <tr>\n",
       "      <td>12</td>\n",
       "      <td>0.339546</td>\n",
       "      <td>0.376755</td>\n",
       "      <td>0.824368</td>\n",
       "      <td>0.862821</td>\n",
       "      <td>0.804062</td>\n",
       "      <td>0.910305</td>\n",
       "      <td>0.832406</td>\n",
       "      <td>0.815165</td>\n",
       "      <td>00:55</td>\n",
       "    </tr>\n",
       "    <tr>\n",
       "      <td>13</td>\n",
       "      <td>0.324172</td>\n",
       "      <td>0.379155</td>\n",
       "      <td>0.823720</td>\n",
       "      <td>0.872200</td>\n",
       "      <td>0.790920</td>\n",
       "      <td>0.910310</td>\n",
       "      <td>0.829574</td>\n",
       "      <td>0.805941</td>\n",
       "      <td>00:53</td>\n",
       "    </tr>\n",
       "  </tbody>\n",
       "</table>"
      ],
      "text/plain": [
       "<IPython.core.display.HTML object>"
      ]
     },
     "metadata": {},
     "output_type": "display_data"
    },
    {
     "data": {
      "image/png": "[encoded data removed]",
      "text/plain": [
       "<Figure size 432x288 with 1 Axes>"
      ]
     },
     "metadata": {},
     "output_type": "display_data"
    }
   ],
   "source": [
    "#learn.fit_one_cycle(3, max_lr=slice(1e-6,1e-5))\n",
    "lr = 1e-3\n",
    "learn.fit_one_cycle(14, slice(1e-6,lr/5))\n",
    "#learn.fit_one_cycle(1, lr, wd=1e-7)"
   ]
  },
  {
   "cell_type": "code",
   "execution_count": 14,
   "metadata": {},
   "outputs": [
    {
     "data": {
      "image/png": "[encoded data removed]",
      "text/plain": [
       "<Figure size 432x288 with 1 Axes>"
      ]
     },
     "metadata": {
      "needs_background": "light"
     },
     "output_type": "display_data"
    }
   ],
   "source": [
    "learn.save(f\"{exp_label}_pneumo_{half_resolution}_after_unfreeze\")\n",
    "interp = ClassificationInterpretation.from_learner(learn)\n",
    "interp.plot_confusion_matrix()"
   ]
  },
  {
   "cell_type": "code",
   "execution_count": 15,
   "metadata": {},
   "outputs": [],
   "source": [
    "learn.load(f\"{exp_label}_pneumo_{half_resolution}_after_unfreeze\");"
   ]
  },
  {
   "cell_type": "code",
   "execution_count": 42,
   "metadata": {},
   "outputs": [],
   "source": [
    "# Starting with image size 768\n",
    "data = (src.transform(tfms, size=full_resolution)\n",
    "           .databunch(bs=8, path='.').normalize(imagenet_stats))"
   ]
  },
  {
   "cell_type": "code",
   "execution_count": 43,
   "metadata": {},
   "outputs": [],
   "source": [
    "learn.data = data"
   ]
  },
  {
   "cell_type": "code",
   "execution_count": 44,
   "metadata": {},
   "outputs": [
    {
     "data": {
      "text/html": [],
      "text/plain": [
       "<IPython.core.display.HTML object>"
      ]
     },
     "metadata": {},
     "output_type": "display_data"
    },
    {
     "name": "stdout",
     "output_type": "stream",
     "text": [
      "LR Finder is complete, type {learner_name}.recorder.plot() to see the graph.\n",
      "Min numerical gradient: 1.58E-06\n",
      "Min loss divided by 10: 4.79E-05\n"
     ]
    },
    {
     "data": {
      "image/png": "[encoded data removed]",
      "text/plain": [
       "<Figure size 432x288 with 1 Axes>"
      ]
     },
     "metadata": {
      "needs_background": "light"
     },
     "output_type": "display_data"
    }
   ],
   "source": [
    "learn.freeze()\n",
    "learn.lr_find()\n",
    "learn.recorder.plot(suggestion=True)"
   ]
  },
  {
   "cell_type": "code",
   "execution_count": 45,
   "metadata": {
    "scrolled": true
   },
   "outputs": [
    {
     "data": {
      "text/html": [
       "<table border=\"1\" class=\"dataframe\">\n",
       "  <thead>\n",
       "    <tr style=\"text-align: left;\">\n",
       "      <th>epoch</th>\n",
       "      <th>train_loss</th>\n",
       "      <th>valid_loss</th>\n",
       "      <th>accuracy</th>\n",
       "      <th>precision</th>\n",
       "      <th>recall</th>\n",
       "      <th>auroc</th>\n",
       "      <th>f_beta</th>\n",
       "      <th>f_beta</th>\n",
       "      <th>time</th>\n",
       "    </tr>\n",
       "  </thead>\n",
       "  <tbody>\n",
       "    <tr>\n",
       "      <td>0</td>\n",
       "      <td>0.357088</td>\n",
       "      <td>0.351245</td>\n",
       "      <td>0.883344</td>\n",
       "      <td>0.878021</td>\n",
       "      <td>0.911589</td>\n",
       "      <td>0.949777</td>\n",
       "      <td>0.894490</td>\n",
       "      <td>0.904671</td>\n",
       "      <td>02:31</td>\n",
       "    </tr>\n",
       "    <tr>\n",
       "      <td>1</td>\n",
       "      <td>0.377192</td>\n",
       "      <td>0.315237</td>\n",
       "      <td>0.891769</td>\n",
       "      <td>0.909535</td>\n",
       "      <td>0.888889</td>\n",
       "      <td>0.951268</td>\n",
       "      <td>0.899094</td>\n",
       "      <td>0.892943</td>\n",
       "      <td>02:29</td>\n",
       "    </tr>\n",
       "    <tr>\n",
       "      <td>2</td>\n",
       "      <td>0.422817</td>\n",
       "      <td>0.641578</td>\n",
       "      <td>0.821128</td>\n",
       "      <td>0.769452</td>\n",
       "      <td>0.956989</td>\n",
       "      <td>0.950206</td>\n",
       "      <td>0.853035</td>\n",
       "      <td>0.912509</td>\n",
       "      <td>02:32</td>\n",
       "    </tr>\n",
       "    <tr>\n",
       "      <td>3</td>\n",
       "      <td>0.286038</td>\n",
       "      <td>0.427200</td>\n",
       "      <td>0.888529</td>\n",
       "      <td>0.880000</td>\n",
       "      <td>0.919952</td>\n",
       "      <td>0.950788</td>\n",
       "      <td>0.899533</td>\n",
       "      <td>0.911674</td>\n",
       "      <td>02:29</td>\n",
       "    </tr>\n",
       "    <tr>\n",
       "      <td>4</td>\n",
       "      <td>0.388757</td>\n",
       "      <td>0.527168</td>\n",
       "      <td>0.863901</td>\n",
       "      <td>0.827586</td>\n",
       "      <td>0.946237</td>\n",
       "      <td>0.950890</td>\n",
       "      <td>0.882943</td>\n",
       "      <td>0.919861</td>\n",
       "      <td>02:30</td>\n",
       "    </tr>\n",
       "    <tr>\n",
       "      <td>5</td>\n",
       "      <td>0.321536</td>\n",
       "      <td>0.389010</td>\n",
       "      <td>0.889825</td>\n",
       "      <td>0.889148</td>\n",
       "      <td>0.910394</td>\n",
       "      <td>0.951456</td>\n",
       "      <td>0.899646</td>\n",
       "      <td>0.906064</td>\n",
       "      <td>02:32</td>\n",
       "    </tr>\n",
       "  </tbody>\n",
       "</table>"
      ],
      "text/plain": [
       "<IPython.core.display.HTML object>"
      ]
     },
     "metadata": {},
     "output_type": "display_data"
    },
    {
     "data": {
      "image/png": "[encoded data removed]",
      "text/plain": [
       "<Figure size 432x288 with 1 Axes>"
      ]
     },
     "metadata": {},
     "output_type": "display_data"
    }
   ],
   "source": [
    "#learn.fit_one_cycle(10, 1e-6, wd=5e-6)\n",
    "lr = 1e-3\n",
    "learn.fit_one_cycle(6, slice(lr), wd=5e-6)\n",
    "#learn.fit_one_cycle(1, slice(3e-3), wd=5e-6)"
   ]
  },
  {
   "cell_type": "code",
   "execution_count": 46,
   "metadata": {},
   "outputs": [
    {
     "data": {
      "image/png": "[encoded data removed]",
      "text/plain": [
       "<Figure size 432x288 with 1 Axes>"
      ]
     },
     "metadata": {
      "needs_background": "light"
     },
     "output_type": "display_data"
    }
   ],
   "source": [
    "learn.save(f\"{exp_label}_pneumo_{full_resolution}_before_unfreeze\")\n",
    "interp = ClassificationInterpretation.from_learner(learn)\n",
    "interp.plot_confusion_matrix()"
   ]
  },
  {
   "cell_type": "code",
   "execution_count": 47,
   "metadata": {},
   "outputs": [],
   "source": [
    "learn.unfreeze()\n",
    "learn = learn.clip_grad();"
   ]
  },
  {
   "cell_type": "code",
   "execution_count": 48,
   "metadata": {},
   "outputs": [
    {
     "data": {
      "text/html": [
       "<table border=\"1\" class=\"dataframe\">\n",
       "  <thead>\n",
       "    <tr style=\"text-align: left;\">\n",
       "      <th>epoch</th>\n",
       "      <th>train_loss</th>\n",
       "      <th>valid_loss</th>\n",
       "      <th>accuracy</th>\n",
       "      <th>precision</th>\n",
       "      <th>recall</th>\n",
       "      <th>auroc</th>\n",
       "      <th>f_beta</th>\n",
       "      <th>f_beta</th>\n",
       "      <th>time</th>\n",
       "    </tr>\n",
       "  </thead>\n",
       "  <tbody>\n",
       "    <tr>\n",
       "      <td>0</td>\n",
       "      <td>0.330004</td>\n",
       "      <td>0.450807</td>\n",
       "      <td>0.878159</td>\n",
       "      <td>0.856202</td>\n",
       "      <td>0.931900</td>\n",
       "      <td>0.951553</td>\n",
       "      <td>0.892448</td>\n",
       "      <td>0.915708</td>\n",
       "      <td>03:05</td>\n",
       "    </tr>\n",
       "    <tr>\n",
       "      <td>1</td>\n",
       "      <td>0.423920</td>\n",
       "      <td>0.395245</td>\n",
       "      <td>0.882696</td>\n",
       "      <td>0.875286</td>\n",
       "      <td>0.913979</td>\n",
       "      <td>0.951931</td>\n",
       "      <td>0.894214</td>\n",
       "      <td>0.905969</td>\n",
       "      <td>03:05</td>\n",
       "    </tr>\n",
       "    <tr>\n",
       "      <td>2</td>\n",
       "      <td>0.395040</td>\n",
       "      <td>0.383791</td>\n",
       "      <td>0.881400</td>\n",
       "      <td>0.866592</td>\n",
       "      <td>0.923536</td>\n",
       "      <td>0.954839</td>\n",
       "      <td>0.894158</td>\n",
       "      <td>0.911557</td>\n",
       "      <td>03:08</td>\n",
       "    </tr>\n",
       "    <tr>\n",
       "      <td>3</td>\n",
       "      <td>0.404318</td>\n",
       "      <td>0.600446</td>\n",
       "      <td>0.848995</td>\n",
       "      <td>0.803823</td>\n",
       "      <td>0.954600</td>\n",
       "      <td>0.954005</td>\n",
       "      <td>0.872747</td>\n",
       "      <td>0.920083</td>\n",
       "      <td>03:07</td>\n",
       "    </tr>\n",
       "    <tr>\n",
       "      <td>4</td>\n",
       "      <td>0.361236</td>\n",
       "      <td>0.331736</td>\n",
       "      <td>0.900842</td>\n",
       "      <td>0.894919</td>\n",
       "      <td>0.925926</td>\n",
       "      <td>0.957331</td>\n",
       "      <td>0.910159</td>\n",
       "      <td>0.919554</td>\n",
       "      <td>03:05</td>\n",
       "    </tr>\n",
       "    <tr>\n",
       "      <td>5</td>\n",
       "      <td>0.391602</td>\n",
       "      <td>0.450978</td>\n",
       "      <td>0.867142</td>\n",
       "      <td>0.836170</td>\n",
       "      <td>0.939068</td>\n",
       "      <td>0.952800</td>\n",
       "      <td>0.884637</td>\n",
       "      <td>0.916511</td>\n",
       "      <td>03:05</td>\n",
       "    </tr>\n",
       "    <tr>\n",
       "      <td>6</td>\n",
       "      <td>0.319445</td>\n",
       "      <td>0.371883</td>\n",
       "      <td>0.893714</td>\n",
       "      <td>0.884571</td>\n",
       "      <td>0.924731</td>\n",
       "      <td>0.960567</td>\n",
       "      <td>0.904206</td>\n",
       "      <td>0.916410</td>\n",
       "      <td>03:06</td>\n",
       "    </tr>\n",
       "    <tr>\n",
       "      <td>7</td>\n",
       "      <td>0.255826</td>\n",
       "      <td>0.399537</td>\n",
       "      <td>0.901491</td>\n",
       "      <td>0.897793</td>\n",
       "      <td>0.923536</td>\n",
       "      <td>0.958096</td>\n",
       "      <td>0.910483</td>\n",
       "      <td>0.918270</td>\n",
       "      <td>03:05</td>\n",
       "    </tr>\n",
       "    <tr>\n",
       "      <td>8</td>\n",
       "      <td>0.420715</td>\n",
       "      <td>0.377525</td>\n",
       "      <td>0.896954</td>\n",
       "      <td>0.886105</td>\n",
       "      <td>0.929510</td>\n",
       "      <td>0.961219</td>\n",
       "      <td>0.907289</td>\n",
       "      <td>0.920492</td>\n",
       "      <td>03:04</td>\n",
       "    </tr>\n",
       "    <tr>\n",
       "      <td>9</td>\n",
       "      <td>0.322603</td>\n",
       "      <td>0.396444</td>\n",
       "      <td>0.901491</td>\n",
       "      <td>0.893226</td>\n",
       "      <td>0.929510</td>\n",
       "      <td>0.961892</td>\n",
       "      <td>0.911007</td>\n",
       "      <td>0.922019</td>\n",
       "      <td>03:07</td>\n",
       "    </tr>\n",
       "    <tr>\n",
       "      <td>10</td>\n",
       "      <td>0.334106</td>\n",
       "      <td>0.397480</td>\n",
       "      <td>0.891769</td>\n",
       "      <td>0.873051</td>\n",
       "      <td>0.936679</td>\n",
       "      <td>0.964861</td>\n",
       "      <td>0.903746</td>\n",
       "      <td>0.923222</td>\n",
       "      <td>03:05</td>\n",
       "    </tr>\n",
       "    <tr>\n",
       "      <td>11</td>\n",
       "      <td>0.187500</td>\n",
       "      <td>0.419629</td>\n",
       "      <td>0.893714</td>\n",
       "      <td>0.875978</td>\n",
       "      <td>0.936679</td>\n",
       "      <td>0.966085</td>\n",
       "      <td>0.905312</td>\n",
       "      <td>0.923875</td>\n",
       "      <td>03:05</td>\n",
       "    </tr>\n",
       "    <tr>\n",
       "      <td>12</td>\n",
       "      <td>0.243662</td>\n",
       "      <td>0.445862</td>\n",
       "      <td>0.893714</td>\n",
       "      <td>0.869374</td>\n",
       "      <td>0.946237</td>\n",
       "      <td>0.966898</td>\n",
       "      <td>0.906178</td>\n",
       "      <td>0.929796</td>\n",
       "      <td>03:03</td>\n",
       "    </tr>\n",
       "    <tr>\n",
       "      <td>13</td>\n",
       "      <td>0.256507</td>\n",
       "      <td>0.640912</td>\n",
       "      <td>0.858717</td>\n",
       "      <td>0.812311</td>\n",
       "      <td>0.961768</td>\n",
       "      <td>0.964729</td>\n",
       "      <td>0.880744</td>\n",
       "      <td>0.927633</td>\n",
       "      <td>03:06</td>\n",
       "    </tr>\n",
       "  </tbody>\n",
       "</table>"
      ],
      "text/plain": [
       "<IPython.core.display.HTML object>"
      ]
     },
     "metadata": {},
     "output_type": "display_data"
    },
    {
     "data": {
      "image/png": "[encoded data removed]",
      "text/plain": [
       "<Figure size 432x288 with 1 Axes>"
      ]
     },
     "metadata": {},
     "output_type": "display_data"
    }
   ],
   "source": [
    "lr = 1e-3\n",
    "learn.fit_one_cycle(14, slice(1e-6,lr/5))\n",
    "#learn.fit_one_cycle(1, lr)\n",
    "#learn.fit_one_cycle(5, slice(1e-6))"
   ]
  },
  {
   "cell_type": "code",
   "execution_count": 49,
   "metadata": {},
   "outputs": [],
   "source": [
    "learn.save(f\"{exp_label}_pneumo_{full_resolution}_after_unfreeze\")\n"
   ]
  },
  {
   "cell_type": "code",
   "execution_count": 50,
   "metadata": {},
   "outputs": [
    {
     "data": {
      "text/plain": [
       "Learner(data=ImageDataBunch;\n",
       "\n",
       "Train: LabelList (13890 items)\n",
       "x: ImageList\n",
       "Image (3, 512, 512),Image (3, 512, 512),Image (3, 512, 512),Image (3, 512, 512),Image (3, 512, 512)\n",
       "y: CategoryList\n",
       "no_disease,no_disease,no_disease,no_disease,no_disease\n",
       "Path: classifier_data_512;\n",
       "\n",
       "Valid: LabelList (1543 items)\n",
       "x: ImageList\n",
       "Image (3, 512, 512),Image (3, 512, 512),Image (3, 512, 512),Image (3, 512, 512),Image (3, 512, 512)\n",
       "y: CategoryList\n",
       "disease,no_disease,no_disease,no_disease,disease\n",
       "Path: classifier_data_512;\n",
       "\n",
       "Test: LabelList (1372 items)\n",
       "x: ImageList\n",
       "Image (3, 512, 512),Image (3, 512, 512),Image (3, 512, 512),Image (3, 512, 512),Image (3, 512, 512)\n",
       "y: EmptyLabelList\n",
       ",,,,\n",
       "Path: classifier_data_512, model=Sequential(\n",
       "  (0): Sequential(\n",
       "    (0): Conv2d(3, 64, kernel_size=(7, 7), stride=(2, 2), padding=(3, 3), bias=False)\n",
       "    (1): BatchNorm2d(64, eps=1e-05, momentum=0.1, affine=True, track_running_stats=True)\n",
       "    (2): ReLU(inplace)\n",
       "    (3): MaxPool2d(kernel_size=3, stride=2, padding=1, dilation=1, ceil_mode=False)\n",
       "    (4): Sequential(\n",
       "      (0): BasicBlock(\n",
       "        (conv1): Conv2d(64, 64, kernel_size=(3, 3), stride=(1, 1), padding=(1, 1), bias=False)\n",
       "        (bn1): BatchNorm2d(64, eps=1e-05, momentum=0.1, affine=True, track_running_stats=True)\n",
       "        (relu): ReLU(inplace)\n",
       "        (conv2): Conv2d(64, 64, kernel_size=(3, 3), stride=(1, 1), padding=(1, 1), bias=False)\n",
       "        (bn2): BatchNorm2d(64, eps=1e-05, momentum=0.1, affine=True, track_running_stats=True)\n",
       "      )\n",
       "      (1): BasicBlock(\n",
       "        (conv1): Conv2d(64, 64, kernel_size=(3, 3), stride=(1, 1), padding=(1, 1), bias=False)\n",
       "        (bn1): BatchNorm2d(64, eps=1e-05, momentum=0.1, affine=True, track_running_stats=True)\n",
       "        (relu): ReLU(inplace)\n",
       "        (conv2): Conv2d(64, 64, kernel_size=(3, 3), stride=(1, 1), padding=(1, 1), bias=False)\n",
       "        (bn2): BatchNorm2d(64, eps=1e-05, momentum=0.1, affine=True, track_running_stats=True)\n",
       "      )\n",
       "    )\n",
       "    (5): Sequential(\n",
       "      (0): BasicBlock(\n",
       "        (conv1): Conv2d(64, 128, kernel_size=(3, 3), stride=(2, 2), padding=(1, 1), bias=False)\n",
       "        (bn1): BatchNorm2d(128, eps=1e-05, momentum=0.1, affine=True, track_running_stats=True)\n",
       "        (relu): ReLU(inplace)\n",
       "        (conv2): Conv2d(128, 128, kernel_size=(3, 3), stride=(1, 1), padding=(1, 1), bias=False)\n",
       "        (bn2): BatchNorm2d(128, eps=1e-05, momentum=0.1, affine=True, track_running_stats=True)\n",
       "        (downsample): Sequential(\n",
       "          (0): Conv2d(64, 128, kernel_size=(1, 1), stride=(2, 2), bias=False)\n",
       "          (1): BatchNorm2d(128, eps=1e-05, momentum=0.1, affine=True, track_running_stats=True)\n",
       "        )\n",
       "      )\n",
       "      (1): BasicBlock(\n",
       "        (conv1): Conv2d(128, 128, kernel_size=(3, 3), stride=(1, 1), padding=(1, 1), bias=False)\n",
       "        (bn1): BatchNorm2d(128, eps=1e-05, momentum=0.1, affine=True, track_running_stats=True)\n",
       "        (relu): ReLU(inplace)\n",
       "        (conv2): Conv2d(128, 128, kernel_size=(3, 3), stride=(1, 1), padding=(1, 1), bias=False)\n",
       "        (bn2): BatchNorm2d(128, eps=1e-05, momentum=0.1, affine=True, track_running_stats=True)\n",
       "      )\n",
       "    )\n",
       "    (6): Sequential(\n",
       "      (0): BasicBlock(\n",
       "        (conv1): Conv2d(128, 256, kernel_size=(3, 3), stride=(2, 2), padding=(1, 1), bias=False)\n",
       "        (bn1): BatchNorm2d(256, eps=1e-05, momentum=0.1, affine=True, track_running_stats=True)\n",
       "        (relu): ReLU(inplace)\n",
       "        (conv2): Conv2d(256, 256, kernel_size=(3, 3), stride=(1, 1), padding=(1, 1), bias=False)\n",
       "        (bn2): BatchNorm2d(256, eps=1e-05, momentum=0.1, affine=True, track_running_stats=True)\n",
       "        (downsample): Sequential(\n",
       "          (0): Conv2d(128, 256, kernel_size=(1, 1), stride=(2, 2), bias=False)\n",
       "          (1): BatchNorm2d(256, eps=1e-05, momentum=0.1, affine=True, track_running_stats=True)\n",
       "        )\n",
       "      )\n",
       "      (1): BasicBlock(\n",
       "        (conv1): Conv2d(256, 256, kernel_size=(3, 3), stride=(1, 1), padding=(1, 1), bias=False)\n",
       "        (bn1): BatchNorm2d(256, eps=1e-05, momentum=0.1, affine=True, track_running_stats=True)\n",
       "        (relu): ReLU(inplace)\n",
       "        (conv2): Conv2d(256, 256, kernel_size=(3, 3), stride=(1, 1), padding=(1, 1), bias=False)\n",
       "        (bn2): BatchNorm2d(256, eps=1e-05, momentum=0.1, affine=True, track_running_stats=True)\n",
       "      )\n",
       "    )\n",
       "    (7): Sequential(\n",
       "      (0): BasicBlock(\n",
       "        (conv1): Conv2d(256, 512, kernel_size=(3, 3), stride=(2, 2), padding=(1, 1), bias=False)\n",
       "        (bn1): BatchNorm2d(512, eps=1e-05, momentum=0.1, affine=True, track_running_stats=True)\n",
       "        (relu): ReLU(inplace)\n",
       "        (conv2): Conv2d(512, 512, kernel_size=(3, 3), stride=(1, 1), padding=(1, 1), bias=False)\n",
       "        (bn2): BatchNorm2d(512, eps=1e-05, momentum=0.1, affine=True, track_running_stats=True)\n",
       "        (downsample): Sequential(\n",
       "          (0): Conv2d(256, 512, kernel_size=(1, 1), stride=(2, 2), bias=False)\n",
       "          (1): BatchNorm2d(512, eps=1e-05, momentum=0.1, affine=True, track_running_stats=True)\n",
       "        )\n",
       "      )\n",
       "      (1): BasicBlock(\n",
       "        (conv1): Conv2d(512, 512, kernel_size=(3, 3), stride=(1, 1), padding=(1, 1), bias=False)\n",
       "        (bn1): BatchNorm2d(512, eps=1e-05, momentum=0.1, affine=True, track_running_stats=True)\n",
       "        (relu): ReLU(inplace)\n",
       "        (conv2): Conv2d(512, 512, kernel_size=(3, 3), stride=(1, 1), padding=(1, 1), bias=False)\n",
       "        (bn2): BatchNorm2d(512, eps=1e-05, momentum=0.1, affine=True, track_running_stats=True)\n",
       "      )\n",
       "    )\n",
       "  )\n",
       "  (1): Sequential(\n",
       "    (0): AdaptiveConcatPool2d(\n",
       "      (ap): AdaptiveAvgPool2d(output_size=1)\n",
       "      (mp): AdaptiveMaxPool2d(output_size=1)\n",
       "    )\n",
       "    (1): Flatten()\n",
       "    (2): BatchNorm1d(1024, eps=1e-05, momentum=0.1, affine=True, track_running_stats=True)\n",
       "    (3): Dropout(p=0.25)\n",
       "    (4): Linear(in_features=1024, out_features=512, bias=True)\n",
       "    (5): ReLU(inplace)\n",
       "    (6): BatchNorm1d(512, eps=1e-05, momentum=0.1, affine=True, track_running_stats=True)\n",
       "    (7): Dropout(p=0.5)\n",
       "    (8): Linear(in_features=512, out_features=2, bias=True)\n",
       "  )\n",
       "), opt_func=functools.partial(<class 'torch.optim.adam.Adam'>, betas=(0.9, 0.99)), loss_func=FlattenedLoss of CrossEntropyLoss(), metrics=[<function accuracy at 0x7fea43d7f950>, Precision(average='binary', pos_label=1, eps=1e-09), Recall(average='binary', pos_label=1, eps=1e-09), AUROC(), FBeta(average='binary', pos_label=1, eps=1e-09, beta=1), FBeta(average='binary', pos_label=1, eps=1e-09, beta=2)], true_wd=True, bn_wd=True, wd=0.01, train_bn=True, path=PosixPath('.'), model_dir='.', callback_fns=[functools.partial(<class 'fastai.basic_train.Recorder'>, add_time=True, silent=False), <class 'fastai.train.ShowGraph'>, functools.partial(<class 'fastai.train.GradientClipping'>, clip=0.1), functools.partial(<class 'fastai.train.GradientClipping'>, clip=0.1)], callbacks=[], layer_groups=[Sequential(\n",
       "  (0): Conv2d(3, 64, kernel_size=(7, 7), stride=(2, 2), padding=(3, 3), bias=False)\n",
       "  (1): BatchNorm2d(64, eps=1e-05, momentum=0.1, affine=True, track_running_stats=True)\n",
       "  (2): ReLU(inplace)\n",
       "  (3): MaxPool2d(kernel_size=3, stride=2, padding=1, dilation=1, ceil_mode=False)\n",
       "  (4): Conv2d(64, 64, kernel_size=(3, 3), stride=(1, 1), padding=(1, 1), bias=False)\n",
       "  (5): BatchNorm2d(64, eps=1e-05, momentum=0.1, affine=True, track_running_stats=True)\n",
       "  (6): ReLU(inplace)\n",
       "  (7): Conv2d(64, 64, kernel_size=(3, 3), stride=(1, 1), padding=(1, 1), bias=False)\n",
       "  (8): BatchNorm2d(64, eps=1e-05, momentum=0.1, affine=True, track_running_stats=True)\n",
       "  (9): Conv2d(64, 64, kernel_size=(3, 3), stride=(1, 1), padding=(1, 1), bias=False)\n",
       "  (10): BatchNorm2d(64, eps=1e-05, momentum=0.1, affine=True, track_running_stats=True)\n",
       "  (11): ReLU(inplace)\n",
       "  (12): Conv2d(64, 64, kernel_size=(3, 3), stride=(1, 1), padding=(1, 1), bias=False)\n",
       "  (13): BatchNorm2d(64, eps=1e-05, momentum=0.1, affine=True, track_running_stats=True)\n",
       "  (14): Conv2d(64, 128, kernel_size=(3, 3), stride=(2, 2), padding=(1, 1), bias=False)\n",
       "  (15): BatchNorm2d(128, eps=1e-05, momentum=0.1, affine=True, track_running_stats=True)\n",
       "  (16): ReLU(inplace)\n",
       "  (17): Conv2d(128, 128, kernel_size=(3, 3), stride=(1, 1), padding=(1, 1), bias=False)\n",
       "  (18): BatchNorm2d(128, eps=1e-05, momentum=0.1, affine=True, track_running_stats=True)\n",
       "  (19): Conv2d(64, 128, kernel_size=(1, 1), stride=(2, 2), bias=False)\n",
       "  (20): BatchNorm2d(128, eps=1e-05, momentum=0.1, affine=True, track_running_stats=True)\n",
       "  (21): Conv2d(128, 128, kernel_size=(3, 3), stride=(1, 1), padding=(1, 1), bias=False)\n",
       "  (22): BatchNorm2d(128, eps=1e-05, momentum=0.1, affine=True, track_running_stats=True)\n",
       "  (23): ReLU(inplace)\n",
       "  (24): Conv2d(128, 128, kernel_size=(3, 3), stride=(1, 1), padding=(1, 1), bias=False)\n",
       "  (25): BatchNorm2d(128, eps=1e-05, momentum=0.1, affine=True, track_running_stats=True)\n",
       "), Sequential(\n",
       "  (0): Conv2d(128, 256, kernel_size=(3, 3), stride=(2, 2), padding=(1, 1), bias=False)\n",
       "  (1): BatchNorm2d(256, eps=1e-05, momentum=0.1, affine=True, track_running_stats=True)\n",
       "  (2): ReLU(inplace)\n",
       "  (3): Conv2d(256, 256, kernel_size=(3, 3), stride=(1, 1), padding=(1, 1), bias=False)\n",
       "  (4): BatchNorm2d(256, eps=1e-05, momentum=0.1, affine=True, track_running_stats=True)\n",
       "  (5): Conv2d(128, 256, kernel_size=(1, 1), stride=(2, 2), bias=False)\n",
       "  (6): BatchNorm2d(256, eps=1e-05, momentum=0.1, affine=True, track_running_stats=True)\n",
       "  (7): Conv2d(256, 256, kernel_size=(3, 3), stride=(1, 1), padding=(1, 1), bias=False)\n",
       "  (8): BatchNorm2d(256, eps=1e-05, momentum=0.1, affine=True, track_running_stats=True)\n",
       "  (9): ReLU(inplace)\n",
       "  (10): Conv2d(256, 256, kernel_size=(3, 3), stride=(1, 1), padding=(1, 1), bias=False)\n",
       "  (11): BatchNorm2d(256, eps=1e-05, momentum=0.1, affine=True, track_running_stats=True)\n",
       "  (12): Conv2d(256, 512, kernel_size=(3, 3), stride=(2, 2), padding=(1, 1), bias=False)\n",
       "  (13): BatchNorm2d(512, eps=1e-05, momentum=0.1, affine=True, track_running_stats=True)\n",
       "  (14): ReLU(inplace)\n",
       "  (15): Conv2d(512, 512, kernel_size=(3, 3), stride=(1, 1), padding=(1, 1), bias=False)\n",
       "  (16): BatchNorm2d(512, eps=1e-05, momentum=0.1, affine=True, track_running_stats=True)\n",
       "  (17): Conv2d(256, 512, kernel_size=(1, 1), stride=(2, 2), bias=False)\n",
       "  (18): BatchNorm2d(512, eps=1e-05, momentum=0.1, affine=True, track_running_stats=True)\n",
       "  (19): Conv2d(512, 512, kernel_size=(3, 3), stride=(1, 1), padding=(1, 1), bias=False)\n",
       "  (20): BatchNorm2d(512, eps=1e-05, momentum=0.1, affine=True, track_running_stats=True)\n",
       "  (21): ReLU(inplace)\n",
       "  (22): Conv2d(512, 512, kernel_size=(3, 3), stride=(1, 1), padding=(1, 1), bias=False)\n",
       "  (23): BatchNorm2d(512, eps=1e-05, momentum=0.1, affine=True, track_running_stats=True)\n",
       "), Sequential(\n",
       "  (0): AdaptiveAvgPool2d(output_size=1)\n",
       "  (1): AdaptiveMaxPool2d(output_size=1)\n",
       "  (2): Flatten()\n",
       "  (3): BatchNorm1d(1024, eps=1e-05, momentum=0.1, affine=True, track_running_stats=True)\n",
       "  (4): Dropout(p=0.25)\n",
       "  (5): Linear(in_features=1024, out_features=512, bias=True)\n",
       "  (6): ReLU(inplace)\n",
       "  (7): BatchNorm1d(512, eps=1e-05, momentum=0.1, affine=True, track_running_stats=True)\n",
       "  (8): Dropout(p=0.5)\n",
       "  (9): Linear(in_features=512, out_features=2, bias=True)\n",
       ")], add_time=True, silent=False)"
      ]
     },
     "execution_count": 50,
     "metadata": {},
     "output_type": "execute_result"
    }
   ],
   "source": [
    "# BEST MODEL is loaded before running on test data\n",
    "learn.load(f\"{exp_label}_pneumo_{full_resolution}_after_unfreeze\")\n",
    "\n",
    "#learn.load(f\"{exp_label}_pneumo_{half_resolution}_after_unfreeze\");"
   ]
  },
  {
   "cell_type": "code",
   "execution_count": 51,
   "metadata": {},
   "outputs": [
    {
     "data": {
      "text/html": [
       "<div>\n",
       "<style scoped>\n",
       "    .dataframe tbody tr th:only-of-type {\n",
       "        vertical-align: middle;\n",
       "    }\n",
       "\n",
       "    .dataframe tbody tr th {\n",
       "        vertical-align: top;\n",
       "    }\n",
       "\n",
       "    .dataframe thead th {\n",
       "        text-align: right;\n",
       "    }\n",
       "</style>\n",
       "<table border=\"1\" class=\"dataframe\">\n",
       "  <thead>\n",
       "    <tr style=\"text-align: right;\">\n",
       "      <th></th>\n",
       "      <th>ImageId</th>\n",
       "      <th>EncodedPixels</th>\n",
       "    </tr>\n",
       "  </thead>\n",
       "  <tbody>\n",
       "    <tr>\n",
       "      <th>0</th>\n",
       "      <td>1.2.276.0.7230010.3.1.4.8323329.6067.151787519...</td>\n",
       "      <td>-1</td>\n",
       "    </tr>\n",
       "    <tr>\n",
       "      <th>1</th>\n",
       "      <td>1.2.276.0.7230010.3.1.4.8323329.6214.151787519...</td>\n",
       "      <td>-1</td>\n",
       "    </tr>\n",
       "    <tr>\n",
       "      <th>2</th>\n",
       "      <td>1.2.276.0.7230010.3.1.4.8323329.6177.151787519...</td>\n",
       "      <td>-1</td>\n",
       "    </tr>\n",
       "    <tr>\n",
       "      <th>3</th>\n",
       "      <td>1.2.276.0.7230010.3.1.4.8323329.6655.151787519...</td>\n",
       "      <td>-1</td>\n",
       "    </tr>\n",
       "    <tr>\n",
       "      <th>4</th>\n",
       "      <td>1.2.276.0.7230010.3.1.4.8323329.6359.151787519...</td>\n",
       "      <td>-1</td>\n",
       "    </tr>\n",
       "  </tbody>\n",
       "</table>\n",
       "</div>"
      ],
      "text/plain": [
       "                                             ImageId  EncodedPixels\n",
       "0  1.2.276.0.7230010.3.1.4.8323329.6067.151787519...             -1\n",
       "1  1.2.276.0.7230010.3.1.4.8323329.6214.151787519...             -1\n",
       "2  1.2.276.0.7230010.3.1.4.8323329.6177.151787519...             -1\n",
       "3  1.2.276.0.7230010.3.1.4.8323329.6655.151787519...             -1\n",
       "4  1.2.276.0.7230010.3.1.4.8323329.6359.151787519...             -1"
      ]
     },
     "execution_count": 51,
     "metadata": {},
     "output_type": "execute_result"
    }
   ],
   "source": [
    "sample_df = pd.read_csv('../sample_submission.csv')\n",
    "sample_df.head()"
   ]
  },
  {
   "cell_type": "code",
   "execution_count": 52,
   "metadata": {},
   "outputs": [],
   "source": [
    "learn.data.add_test(ImageList.from_df(sample_df,f'../data{full_resolution}/',folder='test',suffix='.png'))\n",
    "\n",
    "#t1 = (ImageList.from_folder(f\"../data_{full_resolution}/test/\").split_none())\n",
    "#t2 = t1.datab\n",
    "\n"
   ]
  },
  {
   "cell_type": "code",
   "execution_count": 53,
   "metadata": {},
   "outputs": [
    {
     "data": {
      "text/html": [],
      "text/plain": [
       "<IPython.core.display.HTML object>"
      ]
     },
     "metadata": {},
     "output_type": "display_data"
    }
   ],
   "source": [
    "tta_params = {'beta':0.12, 'scale':1.0}\n",
    "data.normalize\n",
    "preds,_ = learn.TTA(ds_type=DatasetType.Test,**tta_params)\n",
    "#preds,_ = learn.get_preds(ds_type=DatasetType.Test).\n",
    "cls_pred = F.softmax(preds,1).argmax(1).cpu().numpy()\n",
    "cls_pred = F.softmax(preds,1).argmax(1).cpu().numpy()"
   ]
  },
  {
   "cell_type": "code",
   "execution_count": 54,
   "metadata": {},
   "outputs": [
    {
     "data": {
      "text/plain": [
       "1140"
      ]
     },
     "execution_count": 54,
     "metadata": {},
     "output_type": "execute_result"
    }
   ],
   "source": [
    "\n",
    "np.sum(cls_pred)"
   ]
  },
  {
   "cell_type": "code",
   "execution_count": 55,
   "metadata": {},
   "outputs": [
    {
     "data": {
      "text/plain": [
       "1140"
      ]
     },
     "execution_count": 55,
     "metadata": {},
     "output_type": "execute_result"
    }
   ],
   "source": [
    "np.sum(preds.argmax(1).numpy())"
   ]
  },
  {
   "cell_type": "code",
   "execution_count": 56,
   "metadata": {},
   "outputs": [],
   "source": [
    "paths = list(map(str,list(learn.data.test_ds.x.items)))\n",
    "all_test_paths = [p.split('/')[-1][:-4] for p in paths]\n",
    "\n",
    "df_preds = pd.DataFrame()\n",
    "df_preds['test_paths'] = all_test_paths\n",
    "df_preds['class_pred'] = cls_pred\n",
    "\n",
    "df_preds.set_index('test_paths',inplace=True)"
   ]
  },
  {
   "cell_type": "code",
   "execution_count": 57,
   "metadata": {},
   "outputs": [
    {
     "data": {
      "text/html": [
       "<div>\n",
       "<style scoped>\n",
       "    .dataframe tbody tr th:only-of-type {\n",
       "        vertical-align: middle;\n",
       "    }\n",
       "\n",
       "    .dataframe tbody tr th {\n",
       "        vertical-align: top;\n",
       "    }\n",
       "\n",
       "    .dataframe thead th {\n",
       "        text-align: right;\n",
       "    }\n",
       "</style>\n",
       "<table border=\"1\" class=\"dataframe\">\n",
       "  <thead>\n",
       "    <tr style=\"text-align: right;\">\n",
       "      <th></th>\n",
       "      <th>class_pred</th>\n",
       "    </tr>\n",
       "    <tr>\n",
       "      <th>test_paths</th>\n",
       "      <th></th>\n",
       "    </tr>\n",
       "  </thead>\n",
       "  <tbody>\n",
       "    <tr>\n",
       "      <th>1.2.276.0.7230010.3.1.4.8323329.6067.1517875195.915618</th>\n",
       "      <td>1</td>\n",
       "    </tr>\n",
       "    <tr>\n",
       "      <th>1.2.276.0.7230010.3.1.4.8323329.6214.1517875197.83920</th>\n",
       "      <td>1</td>\n",
       "    </tr>\n",
       "    <tr>\n",
       "      <th>1.2.276.0.7230010.3.1.4.8323329.6177.1517875196.880733</th>\n",
       "      <td>1</td>\n",
       "    </tr>\n",
       "    <tr>\n",
       "      <th>1.2.276.0.7230010.3.1.4.8323329.6655.1517875199.413686</th>\n",
       "      <td>1</td>\n",
       "    </tr>\n",
       "    <tr>\n",
       "      <th>1.2.276.0.7230010.3.1.4.8323329.6359.1517875197.803699</th>\n",
       "      <td>1</td>\n",
       "    </tr>\n",
       "  </tbody>\n",
       "</table>\n",
       "</div>"
      ],
      "text/plain": [
       "                                                    class_pred\n",
       "test_paths                                                    \n",
       "1.2.276.0.7230010.3.1.4.8323329.6067.1517875195...           1\n",
       "1.2.276.0.7230010.3.1.4.8323329.6214.1517875197...           1\n",
       "1.2.276.0.7230010.3.1.4.8323329.6177.1517875196...           1\n",
       "1.2.276.0.7230010.3.1.4.8323329.6655.1517875199...           1\n",
       "1.2.276.0.7230010.3.1.4.8323329.6359.1517875197...           1"
      ]
     },
     "execution_count": 57,
     "metadata": {},
     "output_type": "execute_result"
    }
   ],
   "source": [
    "df_preds.head()"
   ]
  },
  {
   "cell_type": "code",
   "execution_count": 58,
   "metadata": {},
   "outputs": [
    {
     "name": "stdout",
     "output_type": "stream",
     "text": [
      "1140\n"
     ]
    }
   ],
   "source": [
    "no_dis_idx = df_preds[df_preds.class_pred==1].index\n",
    "print(len(no_dis_idx))"
   ]
  },
  {
   "cell_type": "code",
   "execution_count": 59,
   "metadata": {},
   "outputs": [
    {
     "data": {
      "text/html": [
       "<div>\n",
       "<style scoped>\n",
       "    .dataframe tbody tr th:only-of-type {\n",
       "        vertical-align: middle;\n",
       "    }\n",
       "\n",
       "    .dataframe tbody tr th {\n",
       "        vertical-align: top;\n",
       "    }\n",
       "\n",
       "    .dataframe thead th {\n",
       "        text-align: right;\n",
       "    }\n",
       "</style>\n",
       "<table border=\"1\" class=\"dataframe\">\n",
       "  <thead>\n",
       "    <tr style=\"text-align: right;\">\n",
       "      <th></th>\n",
       "      <th>EncodedPixels</th>\n",
       "    </tr>\n",
       "    <tr>\n",
       "      <th>ImageId</th>\n",
       "      <th></th>\n",
       "    </tr>\n",
       "  </thead>\n",
       "  <tbody>\n",
       "    <tr>\n",
       "      <th>1.2.276.0.7230010.3.1.4.8323329.6067.1517875195.915618</th>\n",
       "      <td>-1</td>\n",
       "    </tr>\n",
       "    <tr>\n",
       "      <th>1.2.276.0.7230010.3.1.4.8323329.6214.1517875197.83920</th>\n",
       "      <td>-1</td>\n",
       "    </tr>\n",
       "    <tr>\n",
       "      <th>1.2.276.0.7230010.3.1.4.8323329.6177.1517875196.880733</th>\n",
       "      <td>561232 5 1014 15 1008 17 1004 25 995 32 989 36...</td>\n",
       "    </tr>\n",
       "    <tr>\n",
       "      <th>1.2.276.0.7230010.3.1.4.8323329.6655.1517875199.413686</th>\n",
       "      <td>-1</td>\n",
       "    </tr>\n",
       "    <tr>\n",
       "      <th>1.2.276.0.7230010.3.1.4.8323329.6359.1517875197.803699</th>\n",
       "      <td>-1</td>\n",
       "    </tr>\n",
       "  </tbody>\n",
       "</table>\n",
       "</div>"
      ],
      "text/plain": [
       "                                                                                        EncodedPixels\n",
       "ImageId                                                                                              \n",
       "1.2.276.0.7230010.3.1.4.8323329.6067.1517875195...                                                 -1\n",
       "1.2.276.0.7230010.3.1.4.8323329.6214.1517875197...                                                 -1\n",
       "1.2.276.0.7230010.3.1.4.8323329.6177.1517875196...  561232 5 1014 15 1008 17 1004 25 995 32 989 36...\n",
       "1.2.276.0.7230010.3.1.4.8323329.6655.1517875199...                                                 -1\n",
       "1.2.276.0.7230010.3.1.4.8323329.6359.1517875197...                                                 -1"
      ]
     },
     "execution_count": 59,
     "metadata": {},
     "output_type": "execute_result"
    }
   ],
   "source": [
    "#sub = pd.read_csv('new_aug.csv',index_col=['ImageId'])\n",
    "sub = pd.read_csv('hr_same_loss.csv',index_col=['ImageId'])\n",
    "sub.head(25)\n",
    "sub.fillna(value=' -1',inplace=True)\n",
    "sub.head()\n"
   ]
  },
  {
   "cell_type": "code",
   "execution_count": 60,
   "metadata": {},
   "outputs": [],
   "source": [
    "sub.loc[no_dis_idx] = ' -1'\n"
   ]
  },
  {
   "cell_type": "code",
   "execution_count": 61,
   "metadata": {},
   "outputs": [],
   "source": [
    "#sub.to_csv(f'{exp_label}_{model_name}_{half_resolution}_{full_resolution}_classifier_correction_final_model_with_tta.csv')\n",
    "sub.to_csv(f'hr_same_loss_{exp_label}_{model_name}_{half_resolution}_{full_resolution}_classifier_correction_final_model_with_tta_duplicate_disease.csv')"
   ]
  },
  {
   "cell_type": "code",
   "execution_count": 62,
   "metadata": {},
   "outputs": [],
   "source": [
    "interp = ClassificationInterpretation.from_learner(learn)"
   ]
  },
  {
   "cell_type": "code",
   "execution_count": 63,
   "metadata": {},
   "outputs": [
    {
     "data": {
      "image/png": "[encoded data removed]",
      "text/plain": [
       "<Figure size 432x288 with 1 Axes>"
      ]
     },
     "metadata": {
      "needs_background": "light"
     },
     "output_type": "display_data"
    }
   ],
   "source": [
    "interp.plot_confusion_matrix()"
   ]
  },
  {
   "cell_type": "code",
   "execution_count": 1,
   "metadata": {},
   "outputs": [
    {
     "ename": "NameError",
     "evalue": "name 'interp' is not defined",
     "output_type": "error",
     "traceback": [
      "\u001b[0;31m---------------------------------------------------------------------------\u001b[0m",
      "\u001b[0;31mNameError\u001b[0m                                 Traceback (most recent call last)",
      "\u001b[0;32m<ipython-input-1-07eb73e489e5>\u001b[0m in \u001b[0;36m<module>\u001b[0;34m\u001b[0m\n\u001b[0;32m----> 1\u001b[0;31m \u001b[0minterp\u001b[0m\u001b[0;34m.\u001b[0m\u001b[0mplot_top_losses\u001b[0m\u001b[0;34m(\u001b[0m\u001b[0;36m32\u001b[0m\u001b[0;34m,\u001b[0m \u001b[0mfigsize\u001b[0m\u001b[0;34m=\u001b[0m\u001b[0;34m(\u001b[0m\u001b[0;36m14\u001b[0m\u001b[0;34m,\u001b[0m\u001b[0;36m14\u001b[0m\u001b[0;34m)\u001b[0m\u001b[0;34m)\u001b[0m\u001b[0;34m\u001b[0m\u001b[0;34m\u001b[0m\u001b[0m\n\u001b[0m",
      "\u001b[0;31mNameError\u001b[0m: name 'interp' is not defined"
     ]
    }
   ],
   "source": [
    "interp.plot_top_losses(32, figsize=(14,14))"
   ]
  },
  {
   "cell_type": "code",
   "execution_count": null,
   "metadata": {},
   "outputs": [],
   "source": []
  }
 ],
 "metadata": {
  "kernelspec": {
   "display_name": "Python 3",
   "language": "python",
   "name": "python3"
  },
  "language_info": {
   "codemirror_mode": {
    "name": "ipython",
    "version": 3
   },
   "file_extension": ".py",
   "mimetype": "text/x-python",
   "name": "python",
   "nbconvert_exporter": "python",
   "pygments_lexer": "ipython3",
   "version": "3.6.9"
  }
 },
 "nbformat": 4,
 "nbformat_minor": 2
}
